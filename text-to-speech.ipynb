{
 "cells": [
  {
   "cell_type": "code",
   "execution_count": 1,
   "id": "6020d09f",
   "metadata": {
    "_cell_guid": "b1076dfc-b9ad-4769-8c92-a6c4dae69d19",
    "_uuid": "8f2839f25d086af736a60e9eeb907d3b93b6e0e5",
    "execution": {
     "iopub.execute_input": "2024-03-11T11:11:57.338556Z",
     "iopub.status.busy": "2024-03-11T11:11:57.337697Z",
     "iopub.status.idle": "2024-03-11T11:11:58.403632Z",
     "shell.execute_reply": "2024-03-11T11:11:58.402088Z"
    },
    "papermill": {
     "duration": 1.073955,
     "end_time": "2024-03-11T11:11:58.406730",
     "exception": false,
     "start_time": "2024-03-11T11:11:57.332775",
     "status": "completed"
    },
    "tags": []
   },
   "outputs": [],
   "source": [
    "# This Python 3 environment comes with many helpful analytics libraries installed\n",
    "# It is defined by the kaggle/python Docker image: https://github.com/kaggle/docker-python\n",
    "# For example, here's several helpful packages to load\n",
    "\n",
    "import numpy as np # linear algebra\n",
    "import pandas as pd # data processing, CSV file I/O (e.g. pd.read_csv)\n",
    "\n",
    "# Input data files are available in the read-only \"../input/\" directory\n",
    "# For example, running this (by clicking run or pressing Shift+Enter) will list all files under the input directory\n",
    "\n",
    "\n",
    "# You can write up to 20GB to the current directory (/kaggle/working/) that gets preserved as output when you create a version using \"Save & Run All\" \n",
    "# You can also write temporary files to /kaggle/temp/, but they won't be saved outside of the current session"
   ]
  },
  {
   "cell_type": "code",
   "execution_count": 2,
   "id": "25bea507",
   "metadata": {
    "execution": {
     "iopub.execute_input": "2024-03-11T11:11:58.414247Z",
     "iopub.status.busy": "2024-03-11T11:11:58.413635Z",
     "iopub.status.idle": "2024-03-11T11:12:16.093480Z",
     "shell.execute_reply": "2024-03-11T11:12:16.091815Z"
    },
    "papermill": {
     "duration": 17.686895,
     "end_time": "2024-03-11T11:12:16.096559",
     "exception": false,
     "start_time": "2024-03-11T11:11:58.409664",
     "status": "completed"
    },
    "tags": []
   },
   "outputs": [
    {
     "name": "stdout",
     "output_type": "stream",
     "text": [
      "Collecting gTTS\r\n",
      "  Downloading gTTS-2.5.1-py3-none-any.whl.metadata (4.1 kB)\r\n",
      "Requirement already satisfied: requests<3,>=2.27 in /opt/conda/lib/python3.10/site-packages (from gTTS) (2.31.0)\r\n",
      "Requirement already satisfied: click<8.2,>=7.1 in /opt/conda/lib/python3.10/site-packages (from gTTS) (8.1.7)\r\n",
      "Requirement already satisfied: charset-normalizer<4,>=2 in /opt/conda/lib/python3.10/site-packages (from requests<3,>=2.27->gTTS) (3.3.2)\r\n",
      "Requirement already satisfied: idna<4,>=2.5 in /opt/conda/lib/python3.10/site-packages (from requests<3,>=2.27->gTTS) (3.6)\r\n",
      "Requirement already satisfied: urllib3<3,>=1.21.1 in /opt/conda/lib/python3.10/site-packages (from requests<3,>=2.27->gTTS) (1.26.18)\r\n",
      "Requirement already satisfied: certifi>=2017.4.17 in /opt/conda/lib/python3.10/site-packages (from requests<3,>=2.27->gTTS) (2024.2.2)\r\n",
      "Downloading gTTS-2.5.1-py3-none-any.whl (29 kB)\r\n",
      "Installing collected packages: gTTS\r\n",
      "Successfully installed gTTS-2.5.1\r\n",
      "Note: you may need to restart the kernel to use updated packages.\n"
     ]
    }
   ],
   "source": [
    "pip install gTTS"
   ]
  },
  {
   "cell_type": "code",
   "execution_count": 3,
   "id": "97a18336",
   "metadata": {
    "execution": {
     "iopub.execute_input": "2024-03-11T11:12:16.105507Z",
     "iopub.status.busy": "2024-03-11T11:12:16.104995Z",
     "iopub.status.idle": "2024-03-11T11:12:16.428920Z",
     "shell.execute_reply": "2024-03-11T11:12:16.427818Z"
    },
    "papermill": {
     "duration": 0.332176,
     "end_time": "2024-03-11T11:12:16.432080",
     "exception": false,
     "start_time": "2024-03-11T11:12:16.099904",
     "status": "completed"
    },
    "tags": []
   },
   "outputs": [
    {
     "name": "stdout",
     "output_type": "stream",
     "text": [
      "File saved successfully at /kaggle/working/welcome.mp3\n"
     ]
    },
    {
     "data": {
      "text/html": [
       "\n",
       "                <audio  controls=\"controls\" >\n",
       "                    <source src=\"data:audio/mpeg;base64,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\" type=\"audio/mpeg\" />\n",
       "                    Your browser does not support the audio element.\n",
       "                </audio>\n",
       "              "
      ],
      "text/plain": [
       "<IPython.lib.display.Audio object>"
      ]
     },
     "execution_count": 3,
     "metadata": {},
     "output_type": "execute_result"
    }
   ],
   "source": [
    "from gtts import gTTS\n",
    "from IPython.display import Audio\n",
    "import os\n",
    "\n",
    "# The text that you want to convert to audio\n",
    "mytext = 'Hello, welcome to Northern Ireland'\n",
    "\n",
    "# Language in which you want to convert\n",
    "language = 'en'\n",
    "\n",
    "# Generate the full path for saving the file\n",
    "# Adjust the path according to your operating system and preferences\n",
    "save_path = \"/kaggle/working/welcome.mp3\"  # Adjusted the path for Kaggle\n",
    "\n",
    "# Passing the text and language to the engine\n",
    "myobj = gTTS(text=mytext, lang=language, slow=False)\n",
    "\n",
    "# Saving the converted audio in a mp3 file\n",
    "myobj.save(save_path)\n",
    "\n",
    "# Check if the file was saved\n",
    "if os.path.exists(save_path):\n",
    "    print(f\"File saved successfully at {save_path}\")\n",
    "else:\n",
    "    print(\"Failed to save the file. Please check the path and permissions.\")\n",
    "\n",
    "# Display the audio file for playback in the notebook\n",
    "Audio(save_path)\n"
   ]
  }
 ],
 "metadata": {
  "kaggle": {
   "accelerator": "none",
   "dataSources": [],
   "dockerImageVersionId": 30664,
   "isGpuEnabled": false,
   "isInternetEnabled": true,
   "language": "python",
   "sourceType": "notebook"
  },
  "kernelspec": {
   "display_name": "Python 3",
   "language": "python",
   "name": "python3"
  },
  "language_info": {
   "codemirror_mode": {
    "name": "ipython",
    "version": 3
   },
   "file_extension": ".py",
   "mimetype": "text/x-python",
   "name": "python",
   "nbconvert_exporter": "python",
   "pygments_lexer": "ipython3",
   "version": "3.10.13"
  },
  "papermill": {
   "default_parameters": {},
   "duration": 22.968804,
   "end_time": "2024-03-11T11:12:16.957647",
   "environment_variables": {},
   "exception": null,
   "input_path": "__notebook__.ipynb",
   "output_path": "__notebook__.ipynb",
   "parameters": {},
   "start_time": "2024-03-11T11:11:53.988843",
   "version": "2.5.0"
  }
 },
 "nbformat": 4,
 "nbformat_minor": 5
}
